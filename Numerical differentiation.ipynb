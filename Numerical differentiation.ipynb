{
 "cells": [
  {
   "cell_type": "markdown",
   "metadata": {},
   "source": [
    "# Numerical differentiation\n",
    "\n",
    "## Estimating a derivative at a point\n",
    "\n",
    "In this exercise, we will consider the accuracy of backwards, forwards, and centered difference schemes for evaluating the derivative of an analytical function.\n",
    "\n",
    "To start, let's consider a very simple analytical function\n",
    "\n",
    "$$ f(x) = \\dfrac{\\sin}{x^3}.$$\n",
    "\n",
    "It has the exact analytical derivative of \n",
    "\n",
    "$$ \\dfrac{df}{dx} = -3 \\dfrac{\\sin x}{x^4} + \\dfrac{\\cos x}{x^3}.$$\n",
    "\n",
    "A _backwards difference_ approximation of the derivative at a point $x$ is\n",
    "\n",
    "$$ \\left(\\dfrac{df}{dx}\\right)_{BD} = \\dfrac{f(x) - f(x-\\Delta x)}{\\Delta x} + \\mathcal{O}(\\Delta x).$$\n",
    "\n",
    "A _forwards difference_ approximation of the derivative is\n",
    "\n",
    "$$ \\left(\\dfrac{df}{dx}\\right)_{FD} = \\dfrac{f(x+\\Delta x) - f(x)}{\\Delta x} + \\mathcal{O}(\\Delta x).$$\n",
    "\n",
    "A _second-order centered difference_ approximation of the derivative is\n",
    "\n",
    "$$ \\left(\\dfrac{df}{dx}\\right)_{CD-2} = \\dfrac{f(x + \\Delta x) - f(x - \\Delta x)}{2\\Delta x} + \\mathcal{O}(\\Delta x^2).$$\n",
    "\n",
    "A _fourth-order centered difference_ approximation of the derivative is\n",
    "\n",
    "$$ \\left(\\dfrac{df}{dx}\\right)_{CD-4} = \\dfrac{f(x - 2\\Delta x) - 8 f(x - \\Delta x) + 8 f(x + \\Delta x) - f(x + 2\\Delta x)}{12\\Delta x} + \\mathcal{O}(\\Delta x^4).$$\n",
    "\n",
    "Let's examine the accuracy of these approximations of the derivative. Will do so by comparing the value of the exact analytical derivative at a point $x = 1$ between the analytical values and the approximate numerical ones."
   ]
  },
  {
   "cell_type": "markdown",
   "metadata": {},
   "source": [
    "Begin by importing the required libraries into Python"
   ]
  },
  {
   "cell_type": "code",
   "execution_count": 23,
   "metadata": {},
   "outputs": [],
   "source": [
    "import numpy as np\n",
    "import matplotlib.pyplot as plt"
   ]
  },
  {
   "cell_type": "markdown",
   "metadata": {},
   "source": [
    "### Function evaluation sub-routine\n",
    "\n",
    "Define a sub-routine that evaluates the function $f$ and a point $x$"
   ]
  },
  {
   "cell_type": "code",
   "execution_count": 24,
   "metadata": {},
   "outputs": [],
   "source": [
    "def evalf(x):\n",
    "    return np.sin(x)/(x**3)"
   ]
  },
  {
   "cell_type": "markdown",
   "metadata": {},
   "source": [
    "### Main program\n",
    "\n",
    "Now in our main progam, we will evaluate the derivative approximations at $x = 1$ with five different values of $\\Delta x = [10^{-1}, 10^{-2}, 10^{-3}, 10^{-4}, 10^{-5}]$.\n",
    "\n",
    "To do so, let's create an array $h$ that contains those entries of $\\Delta x$:"
   ]
  },
  {
   "cell_type": "code",
   "execution_count": 25,
   "metadata": {},
   "outputs": [
    {
     "name": "stdout",
     "output_type": "stream",
     "text": [
      "h =  [1.e-01 1.e-02 1.e-03 1.e-04 1.e-05]\n"
     ]
    }
   ],
   "source": [
    "h=10**np.linspace(-1,-5,5)\n",
    "print('h = ',h)"
   ]
  },
  {
   "cell_type": "markdown",
   "metadata": {},
   "source": [
    "Now, let's evaluate $f$ at $x=1$ for these values of $h$. Let's also evaluate the exact value of the analytical derivative:"
   ]
  },
  {
   "cell_type": "code",
   "execution_count": 26,
   "metadata": {},
   "outputs": [
    {
     "name": "stdout",
     "output_type": "stream",
     "text": [
      "fp1 = [-2.33051525 -2.01458762 -1.98712184 -1.98441141 -1.98414072]\n",
      "fp2 = [-2.02472615 -1.98451078 -1.98411465 -1.98411069 -1.98411065]\n",
      "fp4 = [-1.98154183 -1.98411041 -1.98411065 -1.98411065 -1.98411065]\n",
      "fpa = -1.9841106485555495\n"
     ]
    }
   ],
   "source": [
    "x = 1\n",
    "\n",
    "fpa = -3*np.sin(x)/(x**4) + np.cos(x)/(x**3)\n",
    "\n",
    "fp1 = (evalf(x)-evalf(x-h))/h\n",
    "fp2 = (evalf(x+h)-evalf(x-h))/(2*h)\n",
    "fp4 = (evalf(x-2*h) - 8*evalf(x-h) + 8*evalf(x+h) - evalf(x+2*h))/(12*h)\n",
    "print('fp1 =',fp1)\n",
    "print('fp2 =',fp2)\n",
    "print('fp4 =',fp4)\n",
    "print('fpa =',fpa)\n"
   ]
  },
  {
   "cell_type": "markdown",
   "metadata": {},
   "source": [
    "Notice how each value in the array is progressively getting closer to the analytical value as $\\Delta x$ is getting smaller. To make this even more clear, let's evaluate the absolute error between the exact and approximate derivatives. The error is defined as\n",
    "\n",
    "$$ error = | approximate - analytical |.$$"
   ]
  },
  {
   "cell_type": "code",
   "execution_count": 27,
   "metadata": {},
   "outputs": [],
   "source": [
    "error1 = np.abs(fp1 - fpa) \n",
    "error2 = np.abs(fp2 - fpa)\n",
    "error4 = np.abs(fp4 - fpa)"
   ]
  },
  {
   "cell_type": "markdown",
   "metadata": {},
   "source": [
    "We can plot the error as a function of $\\Delta x$ to see how the error decreases with decreasing $\\Delta x$:"
   ]
  },
  {
   "cell_type": "code",
   "execution_count": 28,
   "metadata": {},
   "outputs": [
    {
     "data": {
      "text/plain": [
       "<matplotlib.legend.Legend at 0x2b395b8e748>"
      ]
     },
     "execution_count": 28,
     "metadata": {},
     "output_type": "execute_result"
    },
    {
     "data": {
      "image/png": "[encoded data removed]",
      "text/plain": [
       "<Figure size 432x288 with 1 Axes>"
      ]
     },
     "metadata": {
      "needs_background": "light"
     },
     "output_type": "display_data"
    }
   ],
   "source": [
    "plt.loglog(h,error1,'o-',label='1st-order')\n",
    "plt.loglog(h,error2,'o-',label='2nd-order')\n",
    "plt.loglog(h,error4,'o-',label='4th-order')\n",
    "plt.xlabel('$\\Delta x$')\n",
    "plt.ylabel('Absolute error')\n",
    "plt.legend()"
   ]
  },
  {
   "cell_type": "markdown",
   "metadata": {},
   "source": [
    "Now, there's a lot we could say about this plot. Begin by considering the different slope between the first, second, and fourth-order approximations. You see that the error drops pretty slowly with decreasing $\\Delta x$ in the first-order case, but much more rapidly for the second-order case. The error drops even more rapidly with refinements in $\\Delta x$ for the fourth-order case.\n",
    "\n",
    "This shows us a very important feature of finite-difference approximations--their _order of accuracy_. We can see that the order of accuracy reflects the rate at which error drops with refinements in the grid, i.e. the slope of the error curve.\n",
    "\n",
    "We can quantify the order of accuracy for a given finite difference approximation as follows. If $\\phi_{h_i}$ is the solution with $h_i$, we estimate the order of accuracy $p$ from the solution on three successively-refined grids as\n",
    "\n",
    "$$ p = \\dfrac{ -\\log \\left( \\dfrac{\\phi_{h_1} - \\phi_{h_2}}{\\phi_{h_0} - \\phi_{h_1}} \\right) }{\\log \\left( \\dfrac{h_1}{h_0} \\right)}. $$\n",
    "\n",
    "Note: the above equation requires that the ratio between successively-refined grids by equal, i.e. $h_0/h_1$ must equal $h_1/h_2$."
   ]
  },
  {
   "cell_type": "code",
   "execution_count": 29,
   "metadata": {},
   "outputs": [
    {
     "name": "stdout",
     "output_type": "stream",
     "text": [
      "Order of accuracy: 1.0607956701992465 2.006550712254356 4.029237128842392\n"
     ]
    }
   ],
   "source": [
    "p1 = -np.log10( (fp1[1]-fp1[2])/(fp1[0]-fp1[1]) ) / np.log10(10)\n",
    "p2 = -np.log10( (fp2[1]-fp2[2])/(fp2[0]-fp2[1]) ) / np.log10(10)\n",
    "p4 = -np.log10( (fp4[1]-fp4[2])/(fp4[0]-fp4[1]) ) / np.log10(10)\n",
    "print('Order of accuracy:',p1,p2,p4)"
   ]
  },
  {
   "cell_type": "markdown",
   "metadata": {},
   "source": [
    "This confirms that our finite difference approximations have first, second, and fourth-order accuracy."
   ]
  },
  {
   "cell_type": "markdown",
   "metadata": {},
   "source": [
    "## Estimating the derivative across a line\n",
    "\n",
    "In our above exercise, we approximated the derivative of a function at a point and compared the error to the exact analytical value at that point. In practice, however, we are not just interested in a single point, but a whole region which could be 1D, 2D, or 3D. Let's limit ourselves to 1D for now. Thus, we want to approximate the derivative along a line and evaluate how much error there is along the line.\n",
    "\n",
    "For this exercise, let's consider another function\n",
    "\n",
    "$$f(x) = \\cos^2 x \\log x  \\quad x \\in [x_1, x_2] $$\n",
    "\n",
    "where $x_1$ and $x_2$ are the start and end points of our line. $f(x)$ has an exact derivative of \n",
    "\n",
    "$$\\dfrac{df}{dx} = -\\sin 2x \\log x + \\dfrac{\\cos^2 x}{x}.$$\n",
    "\n",
    "### Quantifying the global error\n",
    "\n",
    "To estimate the error along the whole line we need some way of evaluating the error at each point that defines the line and adding them up in some way. Mathematically, this is done using various types of _norms_ that define the error. The most common type of norm is the $L^2$ norm. The $L^2$ norm is a way of quantifying the magnitude of the error over the whole solution space. It is defined as\n",
    "\n",
    "$$ L^2 (\\epsilon) = \\sqrt{ \\sum_{i=1}^{N} \\epsilon_i^2 }, $$\n",
    "\n",
    "where $\\epsilon_i$ is the error at point $i$ in the discrete approximation of the derivative:\n",
    "\n",
    "$$\\epsilon_i = \\left(\\dfrac{df}{dx}\\right)_{Numerical} - \\left(\\dfrac{df}{dx}\\right)_{Analytical} $$"
   ]
  },
  {
   "cell_type": "code",
   "execution_count": 30,
   "metadata": {},
   "outputs": [],
   "source": [
    "def l2error(numerical,analytical):\n",
    "    return (np.sum((numerical-analytical)**2))**0.5"
   ]
  },
  {
   "cell_type": "markdown",
   "metadata": {},
   "source": [
    "### Subroutine to evaluate the numerical derivatives\n",
    "\n",
    "The next sub-routine defines the analytical function, the analytical derivative, and the numerical approximation of the derivative using forwards, backwards, and centered differences.\n",
    "\n",
    "First, define the subroutine:"
   ]
  },
  {
   "cell_type": "code",
   "execution_count": 31,
   "metadata": {},
   "outputs": [],
   "source": [
    "def evaldiff(nx):\n",
    "\n",
    "# Define start and end points\n",
    "    x1 = 0.1\n",
    "    x2 = 4.0\n",
    "\n",
    "# Define the function space with nx discrete points\n",
    "    x = np.linspace(x1,x2,nx)\n",
    "\n",
    "# Now, define the analytical function\n",
    "    f = np.cos(x)**2*np.log(x)    \n",
    "    \n",
    "# And the exact derivative of the analytical function\n",
    "    fp = -np.sin(2*x)*np.log(x) + np.cos(x)**2/x\n",
    "\n",
    "# Now compute the forwards difference approximation of the derivative. For simplicity, copy the fp array, renaming it fp_for\n",
    "    fp_for = fp.copy()\n",
    "\n",
    "# Evaluate the forwards difference approximation:\n",
    "    fp_for[1:] = (f[1:]-f[0:-1])/(x[1:]-x[0:-1])\n",
    "\n",
    "# The forwards difference cannot be evaluated at x[0], so make the approximation there zero\n",
    "    fp_for[0] = 0\n",
    "\n",
    "# Now evaluate the L2-norm of the error, using the already-defined subroutine\n",
    "    l2err_for = l2error(fp[1:-1],fp_for[1:-1])\n",
    "    \n",
    "# Repeat for centered difference scheme. For similar reasons as above, the centered difference \n",
    "# cannot be evaluated at x[0] and x[nx-1] (i.e. first and last indices in the array), so set them to zero. We\n",
    "# could probably think of something smarter to do, but this will be sufficient for illustrative purposes.\n",
    "    fp_cen = fp.copy()\n",
    "    fp_cen[1:-1] = (f[2:]-f[0:-2])/(x[2:]-x[0:-2])\n",
    "    fp_cen[0] = 0\n",
    "    fp_cen[nx-1] = 0\n",
    "    l2err_cen = l2error(fp[1:-1],fp_cen[1:-1])\n",
    "\n",
    "# For visualization purposes, plot the analytical and centered difference approximations to the derivative\n",
    "    plt.xlim(0,4)\n",
    "    plt.ylim(-2,10)\n",
    "    plt.plot(x,fp,'.',label='Analytical')\n",
    "    plt.plot(x,fp_cen,label='CD')\n",
    "    plt.xlabel('$x$')\n",
    "    plt.ylabel('$df/dx$')\n",
    "    \n",
    "    return [l2err_for, l2err_cen]"
   ]
  },
  {
   "cell_type": "markdown",
   "metadata": {},
   "source": [
    "Now, we want to see how the accuracy of our finite difference approximation varies with the size of the discrete steps in our one-dimensional grid for $x$. To do this, I will call the evaluation subroutine repeatedly in a loop, refining the grid by doubling the number of points in my discrete function at each iteration."
   ]
  },
  {
   "cell_type": "code",
   "execution_count": 32,
   "metadata": {},
   "outputs": [
    {
     "name": "stdout",
     "output_type": "stream",
     "text": [
      "------------------------------------------------------------------\n",
      "Nx\t Dx\t\t\t L2norm-FD\t\t L2norm-CD\n",
      "------------------------------------------------------------------\n",
      "8 \t 1.4285714285714286 \t 2.471016957070519 \t 0.8135206164313475\n",
      "16 \t 0.6666666666666666 \t 2.4626219367779676 \t 0.6927900751131821\n",
      "32 \t 0.3225806451612903 \t 2.2971663301056577 \t 0.560049934686656\n",
      "64 \t 0.15873015873015872 \t 1.9305332556460186 \t 0.3474439602849563\n",
      "128 \t 0.07874015748031496 \t 1.4907209906132723 \t 0.17126211711059797\n",
      "256 \t 0.0392156862745098 \t 1.0982378118218254 \t 0.07240787180915437\n",
      "512 \t 0.019569471624266144 \t 0.7915008554382682 \t 0.028064087281052627\n",
      "1024 \t 0.009775171065493646 \t 0.5647682172432231 \t 0.010393588603893413\n",
      "2048 \t 0.004885197850512946 \t 0.4011133862711273 \t 0.0037613436790542663\n",
      "4096 \t 0.002442002442002442 \t 0.28424564618959386 \t 0.0013454543719970365\n",
      "8192 \t 0.0012208521548040532 \t 0.2012083597323847 \t 0.0004784777776393357\n",
      "16384 \t 0.0006103888176768602 \t 0.14235204331820364 \t 0.00016966264788161758\n",
      "32768 \t 0.0003051850947599719 \t 0.1006850103150713 \t 6.007255700749304e-05\n"
     ]
    },
    {
     "data": {
      "image/png": "[encoded data removed]",
      "text/plain": [
       "<Figure size 432x288 with 1 Axes>"
      ]
     },
     "metadata": {
      "needs_background": "light"
     },
     "output_type": "display_data"
    }
   ],
   "source": [
    "# Define the number of iterations I will perform (i.e. the number of successive refinements)\n",
    "n = 13\n",
    "\n",
    "# Initialize an array in which I will store the L2-norm obtained at each iteration level\n",
    "l2norm = np.zeros([n,2]) \n",
    "\n",
    "# Initialize an array in which I will store the grid size at each iteraction level\n",
    "dx = np.zeros(n)\n",
    "\n",
    "# Output a table heading to the screen:\n",
    "print('------------------------------------------------------------------')\n",
    "print('Nx\\t','Dx\\t\\t\\t','L2norm-FD\\t\\t','L2norm-CD')\n",
    "print('------------------------------------------------------------------')\n",
    "\n",
    "# Loop over the refinement levels, calculating the L2 norms for FD and CD schemes at each level.\n",
    "# Note, at the first refinement level, I cannot have zero discrete points, so I start from 2^4 = 8 points,\n",
    "# and then successively double the number of points at each iteration, hence halving the grid size.\n",
    "for i in range(0,n):\n",
    "    nx = 2**(i+3)\n",
    "    dx[i] = 10/(nx-1)\n",
    "    l2norm[i,:] = evaldiff(nx)\n",
    "    print(nx, '\\t', 10/(nx-1), '\\t', l2norm[i,0], '\\t', l2norm[i,1])"
   ]
  },
  {
   "cell_type": "markdown",
   "metadata": {},
   "source": [
    "Notice in the above plot how the thick purple line (analytical function) differs from the finer lines (numerical approximation via centered difference), and the difference (i.e. error) is worse when the grid is coarse. You see the same thing in the table--the $L^2$ norm is smaller when the value of $\\Delta x$ is small.\n",
    "\n",
    "We can plot the $L^2$ norm as a function of $\\Delta x$ on logarithmic scales to reveal the rate at which the error decays in the numerical approximation."
   ]
  },
  {
   "cell_type": "code",
   "execution_count": 33,
   "metadata": {},
   "outputs": [
    {
     "data": {
      "text/plain": [
       "[<matplotlib.lines.Line2D at 0x2b395cdaa08>]"
      ]
     },
     "execution_count": 33,
     "metadata": {},
     "output_type": "execute_result"
    },
    {
     "data": {
      "image/png": "[encoded data removed]",
      "text/plain": [
       "<Figure size 432x288 with 1 Axes>"
      ]
     },
     "metadata": {
      "needs_background": "light"
     },
     "output_type": "display_data"
    }
   ],
   "source": [
    "# Plot the L2-norm error versus grid size  for each case on log axes\n",
    "plt.loglog(dx,l2norm[:,0],'.-',label='FD')\n",
    "plt.loglog(dx,l2norm[:,1],'o-',label='CD')\n",
    "plt.xlabel('$\\Delta x$')\n",
    "plt.ylabel('$L^2(\\epsilon)$')\n",
    "plt.legend()\n",
    "plt.loglog([1e-1,1e-3],[1e-1,1e-5])\n",
    "plt.loglog([1e-1,1e-3],[1e0,1e-2])"
   ]
  },
  {
   "cell_type": "markdown",
   "metadata": {},
   "source": [
    "The red and green lines have slopes of 1 and 2, respectively. It shows that for the CD scheme, the $L^2$ norm reduces at slightly less than $\\mathcal O (\\Delta x^2)$, and for the FD scheme, the $L^2$ norm reduces at slightly less than $\\mathcal O (\\Delta x)$. Thus, we have demonstrated that the FD and CD are *first-order* and *second-order* accurate schemes.\n",
    "\n",
    "Evaluation of the backwards difference is left as an exercise.\n",
    "\n",
    "Note that in the above plot, the error curves don't exactly follow the first and second-order slopes, and the error initially decays very slowly when the initial grid is very coarse at the largest $\\Delta x$ values. Why do you think this occurs?"
   ]
  }
 ],
 "metadata": {
  "kernelspec": {
   "display_name": "Python 3",
   "language": "python",
   "name": "python3"
  },
  "language_info": {
   "codemirror_mode": {
    "name": "ipython",
    "version": 3
   },
   "file_extension": ".py",
   "mimetype": "text/x-python",
   "name": "python",
   "nbconvert_exporter": "python",
   "pygments_lexer": "ipython3",
   "version": "3.7.6"
  }
 },
 "nbformat": 4,
 "nbformat_minor": 4
}
