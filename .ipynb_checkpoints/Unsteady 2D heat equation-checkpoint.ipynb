{
 "cells": [
  {
   "cell_type": "markdown",
   "metadata": {},
   "source": [
    "# Unsteady two-dimensional heat equation\n",
    "\n",
    "In our prior exercise, we looked at solutions of the 2D _steady_ heat equation. In this exercise, we're going to solve the 2D _unsteady_ heat equation. In so doing, we will compare the relative accuracy and efficiency of implicit and explicit solution methods.\n",
    "\n",
    "For completeness, I will keep the preliminary information regarding governing equations, computational domain, etc. in this exercise.\n",
    "\n",
    "\n",
    "## Governing equation\n",
    "We wish to compute the numerical solution of the two-dimensional unsteady heat equation:\n",
    "\n",
    "$$ \\dfrac{\\partial T}{\\partial t} - \\alpha \\left( \\dfrac{\\partial^2 T}{\\partial x^2} + \\dfrac{\\partial^2 T}{\\partial y^2}\\right) = q(x,y,t).$$\n",
    "\n",
    "This is obviously an unsteady equation because of the time derivative. We have also added a source term $q(x,y,t)$, which represents a heat source that can vary in time and space.\n",
    "\n",
    "## Computational domain and boundary conditions\n",
    "We will solve this PDE using a finite difference method in space in a rectangular domain defined by\n",
    "\n",
    "$$x \\in [-1,1]$$\n",
    "$$y \\in [-1,1].$$\n",
    "\n",
    "We will use fixed boundary conditions of $0^{\\circ}$C on all sides."
   ]
  },
  {
   "cell_type": "markdown",
   "metadata": {},
   "source": [
    "## Source term\n",
    "We will impose a steady, non-uniform source term defined as follows:\n",
    "\n",
    "$$q(x,y) = Q_0 \\exp \\left( -\\dfrac{(x^2 + y^2)}{2 \\sigma^2} \\right)$$\n",
    "\n",
    "where $\\sigma = 0.1$ and $Q_0$ is 200$^{\\circ}$C/s. This represents a steady Gaussian function with a maximum value at (0,0) and uniform radial decay."
   ]
  },
  {
   "cell_type": "markdown",
   "metadata": {},
   "source": [
    "## Numerical schemes\n",
    "\n",
    "We will use the following numerical schemes to solve this system:\n",
    "\n",
    "### Simple explicit method\n",
    "If we approximate the time derivative term in our governing equation with a forwards difference and the spatial terms with centered differences, we obtain the _simple explicit_ method:\n",
    "\n",
    "$$ \\dfrac{T_{i,j}^{n+1} - T_{i,j}^n}{\\Delta t} = \\alpha \\dfrac{T_{i+1,j}^n - 2T_{i,j}^n + T_{i-1,j}^n}{\\Delta x^2} + \\alpha \\dfrac{T_{i,j+1}^n - 2T_{i,j}^n + T_{i,j-1}^n}{\\Delta y^2} + q. $$\n",
    "\n",
    "\n",
    "Rearranging yields a simple, explicit expression for $T_{i,j}^{n+1}$:\n",
    "\n",
    "$$ \\boxed{T_{i,j}^{n+1} = r \\left(T_{i+1,j}^n - 2T_{i,j}^n + T_{i-1,j}^n \\right) + \\beta^2 r \\left(T_{i,j+1}^n - 2T_{i,j}^n + T_{i,j-1}^n\\right) + T_{i,j}^n + \\Delta t q}. $$\n",
    "\n",
    "where $\\beta$ and $r$ are\n",
    "$$ \\beta = \\dfrac{\\Delta x}{\\Delta y} \\quad \\quad r = \\dfrac{\\alpha \\Delta t}{\\Delta x^2}.$$\n",
    "\n",
    "It can be shown that the scheme is stable for $0 \\leq (1+\\beta^2)r \\leq \\frac{1}{2}$. For a grid with $\\beta = 1$, this stability criterion becomes $r\\leq \\frac{1}{4}$, which is a very restrictive constraint, yielding small time step sizes and long simulation times.\n",
    "\n",
    "### Dufort-Frankel method\n",
    "The simple explicit method above is regrettably only first-order accurate. To increase temporal accuracy, we use a centered difference for the time derivative:\n",
    "\n",
    "$$ \\dfrac{T_{i,j}^{n+1} - T_{i,j}^{n-1}}{2\\Delta t} = \\alpha \\dfrac{T_{i+1,j}^n - 2T_{i,j}^n + T_{i-1,j}^n}{\\Delta x^2} + \\alpha \\dfrac{T_{i,j+1}^n - 2T_{i,j}^n + T_{i,j-1}^n}{\\Delta y^2} + q. $$\n",
    "\n",
    "Moreover, we treat the $T_{i,j}^n$ terms as the average of the prior and next time steps:\n",
    "\n",
    "$$ T_{i,j}^n = \\dfrac{T_{i,j}^{n+1} + T_{i,j}^{n-1}}{2}.$$\n",
    "\n",
    "Applying the above to the discretized equation and simplifying yields a two-time level variant of the simple explicit method called the Dufort-Frankel method:\n",
    "\n",
    "$$ \\boxed{T_{i,j}^{n+1} = \\dfrac{2r \\left(T_{i+1,j}^n - T_{i,j}^{n-1} + T_{i-1,j}^n \\right) + 2\\beta^2 r \\left(T_{i,j+1}^n - T_{i,j}^{n-1} + T_{i,j-1}^n\\right) + T_{i,j}^{n-1} + 2\\Delta t q}{1 + 2r + 2\\beta^2 r}}. $$\n",
    "\n",
    "\n",
    "### Alternating direction implicit (ADI)\n",
    "Returning to the simple explicit method, if instead evaluating the spatial term at the $n$ time level, we evaluated them at the $n+1$ time level, we get\n",
    "\n",
    "$$ {T_{i,j}^{n+1} = r \\left(T_{i+1,j}^{n+1} - 2T_{i,j}^{n+1} + T_{i-1,j}^{n+1} \\right) + \\beta^2 r \\left(T_{i,j+1}^{n+1} - 2T_{i,j}^{n+1} + T_{i,j-1}^{n+1}\\right) + T_{i,j}^n + \\Delta t q}. $$\n",
    "\n",
    "One can see that this is an _implicit_ formulation and there are five unknowns in the equation at the $n+1$ time level. As a result, this formulation is not tridiagonal and thus more expensive solution methods are required to solve the algebraic system of equations. We can address this difficulty by treating it as a mixed implicit/explicit scheme with two steps. In the first step, the spatial terms are evaluated at an intermediate $(n+1/2)$ time level in one direction and $n$ in the other direction. In the second step, the first direction is evaluated at the $n+1/2$ level and the other direction at $(n+1)$. This is expressed as follows:\n",
    "\n",
    "Step 1:\n",
    "$$ \\boxed{T_{i,j}^{n+1/2} = 0.5 r \\left(T_{i+1,j}^{n+1/2} - 2T_{i,j}^{n+1/2} + T_{i-1,j}^{n+1/2} \\right) + 0.5 \\beta^2 r \\left(T_{i,j+1}^{n} - 2T_{i,j}^{n} + T_{i,j-1}^{n}\\right) + T_{i,j}^n + 0.5 \\Delta t q}. $$\n",
    "Step 2:\n",
    "$$ \\boxed{T_{i,j}^{n+1} = 0.5 r \\left(T_{i+1,j}^{n+1/2} - 2T_{i,j}^{n+1/2} + T_{i-1,j}^{n+1/2} \\right) + 0.5 \\beta^2 r \\left(T_{i,j+1}^{n+1} - 2T_{i,j}^{n+1} + T_{i,j-1}^{n+1}\\right) + T_{i,j}^{n+1/2} + 0.5 \\Delta t q}. $$\n",
    "\n",
    "Step 1 is implicit in $x$ and explicit in $y$. Step 2 is explicit in $x$ and implicit in $y$. Hence it is called _alternating direction implicit_ (ADI) scheme. The ADI scheme is unconditionally stable and has second-order accuracy with a truncation error of $\\mathcal{O}[(\\Delta x)^2, (\\Delta y)^2, (\\Delta t)^2]$. To avoid any bias in the solution direction, the order of step 1 and step 2 is reversed on even and odd time steps. This means that on even time steps, $x$ is treated implicitly first and $y$ second, and vice-versa on odd time steps."
   ]
  },
  {
   "cell_type": "markdown",
   "metadata": {},
   "source": [
    "#### Assembling the implicit system of equations\n",
    "\n",
    "The ADI method is implicit and a linear system of equations must be solved in step 1 and 2 at each time step. The linear system can be written as\n",
    "\n",
    "$$ \\mathbf{A} \\mathbf{T} = \\mathbf{b} $$\n",
    "\n",
    "where $\\mathbf{A}$ is a coefficient matrix, $x$ is a solution vector, and $b$ represents the right-hand side vector in the linear system. \n",
    "\n",
    "To clearly illustrate how this system is setup, let's consider Step 1 of the ADI method above. We're just starting, so set $i$ = 0 and $j$ = 1 (not $j$ = 0 because the $j=0$ information is already known, as it is fixed by the boundary conditions):\n",
    "\n",
    "$$i = 0: \\quad T_{0,1}^{n+1/2} = 0.5 r ( T_{1,1}^{n+1/2} - 2 T_{0,1}^{n+1/2} ) + 0.5 \\beta^2 r ( T_{0,2}^{n} - 2 T_{0,1}^{n} + T_{0,0}^n ) + T_{0,0}^n + 0.5 \\Delta t q_{0,1} $$\n",
    "\n",
    "Notice the $T_{i-1,j}$ term is gone because there are no negative indexed points. Let's move all the unknowns to the left hand side and all the knowns to the right hand side:\n",
    "\n",
    "$$ i = 0: \\quad (1+r) T_{0,1}^{n+1/2} - 0.5r T_{1,1}^{n+1/2} = 0.5 \\beta^2 r ( T_{0,2}^{n} - 2 T_{0,1}^{n} + T_{0,0}^{n} ) + T_{0,0}^n + 0.5 \\Delta t q_{0,1} $$\n",
    "\n",
    "Now, let's increment $i$ to $i$ = 1 and write the equation as above:\n",
    "\n",
    "$$ i = 1: \\quad - 0.5r T_{0,1}^{n+1/2} + (1+r) T_{1,1}^{n+1/2} -0.5rT_{2,1}^{n+1/2} = 0.5 \\beta^2 r ( T_{1,1}^{n} - 2 T_{1,1}^{n} + T_{1,0}^{n}) + T_{1,1}^n + 0.5 \\Delta t q_{1,1} $$\n",
    "\n",
    "Let's increment $i$ to $i$ = 2, $j$ = 0 and write the equation again:\n",
    "\n",
    "$$ i = 2: \\quad - 0.5r T_{1,1}^{n+1/2} + (1+r) T_{2,1}^{n+1/2} -0.5rT_{3,1}^{n+1/2} = 0.5 \\beta^2 r ( T_{2,2}^{n} - 2 T_{2,1}^{n} + T_{2,0}^{n}) + T_{2,1}^n + 0.5 \\Delta t q_{2,1} $$\n",
    "\n",
    "Writing these equations in matrix form for $i = 0 \\to n_i$ will look like this:\n",
    "\n",
    "$$ \\left[ \n",
    "\\begin{array}{ccccccc}\n",
    "(1+r) & -0.5r & 0 & 0 & 0 & ... & 0  \\\\\n",
    "-0.5r & (1+r) & -0.5r & 0 & 0 & ... & 0 \\\\\n",
    "0 & -0.5r & (1+r) & -0.5r & 0 & ... & 0 \\\\\n",
    "\\vdots & \\vdots & \\ddots & \\ddots & \\ddots & \\dots & \\vdots \\\\\n",
    "0 & \\dots & 0 & 0 & -0.5r & (1+r) & -0.5r  \\\\\n",
    "0 & \\dots & 0 & 0 & 0 & -0.5r & (1+r) \n",
    "\\end{array} \\right]\n",
    "\\left[\n",
    "\\begin{array}{c}\n",
    "T_{0,0}^{n+1/2}\\\\\n",
    "T_{1,0}^{n+1/2}\\\\\n",
    "T_{2,0}^{n+1/2}\\\\\n",
    "\\vdots \\\\\n",
    "T_{n_{i-1},0}^{n+1/2} \\\\\n",
    "T_{n_i,0}^{n+1/2}\n",
    "\\end{array}\n",
    "\\right]\n",
    "=\n",
    "\\left[\n",
    "\\begin{array}{c}\n",
    "0.5 \\beta^2 r ( T_{0,2}^{n} - 2 T_{0,1}^{n} + T_{0,0}^{n} ) + T_{0,0}^n + 0.5 \\Delta t q_{0,1} \\\\\n",
    "0.5 \\beta^2 r ( T_{1,1}^{n} - 2 T_{1,1}^{n} + T_{1,0}^{n} ) + T_{1,1}^n + 0.5 \\Delta t q_{1,1} \\\\\n",
    "0.5 \\beta^2 r ( T_{2,2}^{n} - 2 T_{2,1}^{n} + T_{2,0}^{n} ) + T_{2,1}^n + 0.5 \\Delta t q_{2,1} \\\\\n",
    "\\vdots \\\\\n",
    "0.5 \\beta^2 r ( T_{n_{i-1},2}^{n} - 2 T_{n_{i-1},1}^{n} + T_{n_{i-1},0}^{n} ) + T_{n_{i-1},1}^n + 0.5 \\Delta t q_{n_{i-1},1} \\\\\n",
    "0.5 \\beta^2 r ( T_{n_{i},2}^{n} - 2 T_{n_{i},1}^{n} + T_{n_{i},0}^{n} ) + T_{n_{i},1}^n + 0.5 \\Delta t q_{n_{i},1} \\\\\n",
    "\\end{array}\n",
    "\\right]\n",
    "$$\n",
    "\n",
    "or $$ \\mathbf{A} \\mathbf{T} = \\mathbf{b}. $$"
   ]
  },
  {
   "cell_type": "markdown",
   "metadata": {},
   "source": [
    "#### Solving the tridiagonal system\n",
    "\n",
    "Notice that the coefficient matrix $\\mathbf{A}$ is _tridiagonal_---only the elements along the main diagonal, and one element above and below the main diagonal are non-zero. Tridiagonal matrices can be solved efficiently using the tridiagonal matrix algorithm (TDMA), also known as the _Thomas_ algorithm.\n",
    "\n",
    "If we define our tridiagonal matrix as\n",
    "\n",
    "$$ \\left[ \\begin{array}{ccccc}\n",
    "b_1 & c_1 & & & 0 \\\\\n",
    "a_2 & b_2 & c_2 & & \\\\\n",
    " & a_3 & b_3 & \\ddots & \\\\\n",
    " &     & \\ddots & \\ddots & c_{n-1} \\\\\n",
    "0 & & & a_n & b_n \n",
    "\\end{array}\\right] \n",
    "\\left[ \\begin{array}{c}\n",
    "T_1 \\\\\n",
    "T_2 \\\\\n",
    "T_3 \\\\\n",
    "\\vdots \\\\\n",
    "x_n\n",
    "\\end{array}\\right] = \n",
    "\\left[ \\begin{array}{c}\n",
    "d_1 \\\\\n",
    "d_2 \\\\\n",
    "d_3 \\\\\n",
    "\\vdots \\\\\n",
    "d_n \n",
    "\\end{array}\\right] $$\n",
    "\n",
    "The TDMA proceeds in two steps:\n",
    "\n",
    "**Step 1: Forward sweep**\n",
    "$$c_i^{\\prime} = \\lbrace"
   ]
  },
  {
   "cell_type": "markdown",
   "metadata": {},
   "source": [
    "## Python code\n",
    "Import Python classes:"
   ]
  },
  {
   "cell_type": "code",
   "execution_count": 1,
   "metadata": {},
   "outputs": [],
   "source": [
    "import numpy as np\n",
    "import time\n",
    "import matplotlib.pyplot as plt\n",
    "import matplotlib.cm as cm"
   ]
  },
  {
   "cell_type": "markdown",
   "metadata": {},
   "source": [
    "Sub-routine that defines the source term:"
   ]
  },
  {
   "cell_type": "code",
   "execution_count": 2,
   "metadata": {},
   "outputs": [],
   "source": [
    "def Q(x,y):\n",
    "    sigma = 0.1\n",
    "    return np.exp(-(x**2 + y**2)/(2*sigma**2))"
   ]
  },
  {
   "cell_type": "markdown",
   "metadata": {},
   "source": [
    "Sub-routine defining the tridiagonal matrix algorithm:"
   ]
  },
  {
   "cell_type": "code",
   "execution_count": 32,
   "metadata": {},
   "outputs": [],
   "source": [
    "S"
   ]
  },
  {
   "cell_type": "markdown",
   "metadata": {},
   "source": [
    "Assign initial and boundary conditions:"
   ]
  },
  {
   "cell_type": "code",
   "execution_count": 37,
   "metadata": {
    "scrolled": true
   },
   "outputs": [
    {
     "data": {
      "text/plain": [
       "Text(0.5, 1.0, 'Simple explicit method')"
      ]
     },
     "execution_count": 37,
     "metadata": {},
     "output_type": "execute_result"
    },
    {
     "data": {
      "image/png": "[encoded data removed]",
      "text/plain": [
       "<Figure size 432x288 with 1 Axes>"
      ]
     },
     "metadata": {
      "needs_background": "light"
     },
     "output_type": "display_data"
    }
   ],
   "source": [
    "# Define the spatial grid information\n",
    "nx = 31\n",
    "ny = 31\n",
    "dx = 2/nx\n",
    "dy = 2/ny\n",
    "alpha = 1\n",
    "beta = dx/dy\n",
    "tmax = 0.1\n",
    "x = np.linspace(-1.,1,nx)\n",
    "y = np.linspace(-1.,1,ny)\n",
    "X, Y = np.meshgrid(x,y)\n",
    "\n",
    "# Assign initial conditions\n",
    "T0 = 0\n",
    "Q0 = 200\n",
    "T = T0*np.ones((nx,ny)) + Q0*Q(X,Y)\n",
    "\n",
    "# Assign boundary conditions\n",
    "T[:,0] = 0\n",
    "T[:,ny-1] = 0\n",
    "T[0,:] = 0\n",
    "T[nx-1,:] = 0\n",
    "\n",
    "# Evaluate time step size\n",
    "r = 0.25/(1+beta**2)\n",
    "dt = r*dx**2/alpha\n",
    "\n",
    "n=0\n",
    "Tmax = []\n",
    "t = []\n",
    "\n",
    "while (n*dt < tmax):    \n",
    "    Tn = T.copy()\n",
    "    q = Q0*Q(X,Y)\n",
    "    T[1:-1,1:-1] = r*(Tn[2:,1:-1]-2*Tn[1:-1,1:-1]+Tn[:-2,1:-1]) + \\\n",
    "                    beta**2*r*(Tn[1:-1,2:]-2*Tn[1:-1,1:-1]+Tn[1:-1,:-2]) + \\\n",
    "                    Tn[1:-1,1:-1] + dt*q[1:-1,1:-1]\n",
    "    Tmax = np.append(Tmax,np.max(T))\n",
    "    t = np.append(t,n*dt)\n",
    "    n+=1\n",
    "\n",
    "plt.plot(t,Tmax)\n",
    "plt.xlabel('t (s)')\n",
    "plt.ylabel('T at (0,0) $\\circ$C')\n",
    "plt.title('Simple explicit method')"
   ]
  },
  {
   "cell_type": "markdown",
   "metadata": {},
   "source": [
    "Animation of the temperature distribution:"
   ]
  },
  {
   "cell_type": "code",
   "execution_count": 38,
   "metadata": {},
   "outputs": [
    {
     "data": {
      "text/html": [
       "\n",
       "    <video alt=\"test\" controls>\n",
       "        <source src=\"output2.mp4\" type=\"video/mp4\">\n",
       "    </video>\n"
      ],
      "text/plain": [
       "<IPython.core.display.HTML object>"
      ]
     },
     "execution_count": 38,
     "metadata": {},
     "output_type": "execute_result"
    }
   ],
   "source": [
    "from IPython.display import HTML\n",
    "\n",
    "HTML(\"\"\"\n",
    "    <video alt=\"test\" controls>\n",
    "        <source src=\"output2.mp4\" type=\"video/mp4\">\n",
    "    </video>\n",
    "\"\"\")"
   ]
  },
  {
   "cell_type": "markdown",
   "metadata": {},
   "source": [
    "## Performance comparison\n",
    "\n",
    "The relative performance of the different numerical methods is compared in the below table:\n",
    "\n",
    "| Method | Iterations   |\n",
    "|--------|--------------|\n",
    "| Jacobi  | 1077 |\n",
    "| Point Gauss-Seidel | 968 |\n",
    "| Point successive over-relaxation | 323 |\n",
    "\n",
    "It is clearly evident that point successive over-relaxation achieves the fastest convergence. This is also seen in the solution residual plot:"
   ]
  },
  {
   "cell_type": "code",
   "execution_count": null,
   "metadata": {},
   "outputs": [],
   "source": []
  }
 ],
 "metadata": {
  "kernelspec": {
   "display_name": "Python 3",
   "language": "python",
   "name": "python3"
  },
  "language_info": {
   "codemirror_mode": {
    "name": "ipython",
    "version": 3
   },
   "file_extension": ".py",
   "mimetype": "text/x-python",
   "name": "python",
   "nbconvert_exporter": "python",
   "pygments_lexer": "ipython3",
   "version": "3.7.6"
  }
 },
 "nbformat": 4,
 "nbformat_minor": 4
}
