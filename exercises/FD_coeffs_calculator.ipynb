{
 "cells": [
  {
   "cell_type": "markdown",
   "metadata": {},
   "source": [
    "# Calculating finite difference schemes of arbitrary order for arbitrary kernels\n",
    "\n",
    "This workbook shows how finite difference schemes can be created for an arbitrary kernel size and derivative order. It is based on Taylor series expansions, following the procedure described in https://web.media.mit.edu/~crtaylor/calculator.html.\n",
    "\n",
    "A general finite difference scheme for a derivative of order $n$ evaluated around point $x$ with a kernal containing $N$ points\n",
    "\n",
    "$$ (x + s_1) \\Delta x, \\: (x + s_2) \\Delta x, \\: ... , \\: (x+s_N) \\Delta x$$\n",
    "\n",
    "is given by\n",
    "\n",
    "$$ \\dfrac{d^{(n)} f}{dx^{(n)}} = \\dfrac{1}{\\Delta x^n} \\left( c_1 f(x + s_1\\Delta x) + c_2 f(x + s_2 \\Delta x) + ... + c_N f(x + s_N \\Delta x) \\right) + O(\\Delta x^{N-n}). $$\n",
    "\n",
    "The finite difference coefficients $c_1$, $c_2$, ..., $c_N$ are found by solving the linear system\n",
    "\n",
    "$$ \\left[\n",
    "\\begin{array}{ccc}\n",
    "s_1^0 & ... & s_N^0 \\\\\n",
    "s_1^1 & ... & s_N^1 \\\\\n",
    "\\vdots & \\ddots & \\vdots \\\\\n",
    "s_1^{N-1} & ... & s_N^{N-1}\n",
    "\\end{array}  \\right] \n",
    "\\left[ \\begin{array}{c}\n",
    "c_1 \\\\\n",
    "c_2 \\\\\n",
    "\\vdots \\\\\n",
    "c_N \n",
    "\\end{array} \\right] = \n",
    "n!\\left[ \\begin{array}{c}\n",
    "\\delta_{0,n} \\\\\n",
    "\\delta_{1,n} \\\\\n",
    "\\vdots \\\\\n",
    "\\delta_{N-1,n} \n",
    "\\end{array} \\right]\n",
    "$$\n",
    "\n",
    "where $\\Delta_{ij}$ is the Kronecker delta function, which is defined as $\\delta_{ij} = 1$ for $i=j$ and $\\delta_{ij} = 0$ for $i\\neq j$."
   ]
  },
  {
   "cell_type": "markdown",
   "metadata": {},
   "source": [
    "## Python code"
   ]
  },
  {
   "cell_type": "code",
   "execution_count": 13,
   "metadata": {},
   "outputs": [],
   "source": [
    "import numpy as np\n",
    "import fractions as fr\n",
    "\n",
    "# Sub-routine for the Kronecker delta function\n",
    "def delta(x,y):\n",
    "    if x==y:\n",
    "        return 1\n",
    "    else:\n",
    "        return 0\n",
    "\n",
    "# Sub-routine for building the right-hand-side vector\n",
    "def rhs(N,d):\n",
    "    \n",
    "    l = np.zeros(N,dtype=int)\n",
    "    \n",
    "    for i in range(0,N):\n",
    "        l[i] = np.math.factorial(d)*delta(d,i)\n",
    "    return l\n",
    "\n",
    "# Solve for system for the FD coefficients\n",
    "def FD(s,d):\n",
    "    \n",
    "    N = np.size(s)\n",
    "    l = np.zeros([N,N],dtype=int)\n",
    "    \n",
    "    # Build coefficient matrix\n",
    "    for i in range(0,N):\n",
    "        l[i,:] = np.power(s,i)\n",
    "    \n",
    "    # Build RHS vector\n",
    "    b = rhs(N,d)\n",
    "    \n",
    "    # Solve linear system using NumPy's built-in equation solver\n",
    "    c = np.linalg.solve(l,b)\n",
    "    \n",
    "    return c"
   ]
  },
  {
   "cell_type": "markdown",
   "metadata": {},
   "source": [
    "### Example 1:\n",
    "\n",
    "Find the finite difference approximation for $\\dfrac{df}{dx}$ with kernel points at $(x-\\Delta x, x, x+\\Delta x)$:"
   ]
  },
  {
   "cell_type": "code",
   "execution_count": 14,
   "metadata": {},
   "outputs": [
    {
     "name": "stdout",
     "output_type": "stream",
     "text": [
      "c=[\n",
      "-1/2\n",
      "0\n",
      "1/2\n",
      "]\n",
      "Order of accuracy: O(h ^ 2 )\n"
     ]
    }
   ],
   "source": [
    "s = [-1,0,1]\n",
    "n = 1\n",
    "stencil_coeffs = FD(s,n)\n",
    "\n",
    "#Convert to fractions for convenience in comparing with FD tables\n",
    "print(\"c=[\")\n",
    "N = np.size(s)\n",
    "for i in range(0,N):\n",
    "    print(fr.Fraction(stencil_coeffs[i]).limit_denominator())\n",
    "print(\"]\")\n",
    "print('Order of accuracy: O(h ^',N-n,')')"
   ]
  },
  {
   "cell_type": "markdown",
   "metadata": {},
   "source": [
    "Thus the finite difference approximation is:\n",
    "\n",
    "$$\\dfrac{df}{dx} = \\dfrac{1}{\\Delta x} \\left( -\\frac{1}{2} f(x-\\Delta x) + \\frac{1}{2} f(x+\\Delta x)  \\right) + O(\\Delta x^2)$$"
   ]
  },
  {
   "cell_type": "markdown",
   "metadata": {},
   "source": [
    "### Example 2:\n",
    "\n",
    "Find the finite difference approximation for $\\dfrac{d^3f}{dx^3}$ with kernel points at $(x-3\\Delta x, x-2 \\Delta x, x-1 \\Delta x, x, x+1\\Delta x, x+2 \\Delta x, x+3 \\Delta x)$:"
   ]
  },
  {
   "cell_type": "code",
   "execution_count": 16,
   "metadata": {},
   "outputs": [
    {
     "name": "stdout",
     "output_type": "stream",
     "text": [
      "c=[\n",
      "1/8\n",
      "-1\n",
      "13/8\n",
      "0\n",
      "-13/8\n",
      "1\n",
      "-1/8\n",
      "]\n",
      "Order of accuracy: O(h ^ 4 )\n"
     ]
    }
   ],
   "source": [
    "s = [-3,-2,-1,0,1,2,3]\n",
    "n = 3\n",
    "stencil_coeffs = FD(s,n)\n",
    "\n",
    "#Convert to fractions for convenience in comparing with FD tables\n",
    "print(\"c=[\")\n",
    "N = np.size(s)\n",
    "for i in range(0,N):\n",
    "    print(fr.Fraction(stencil_coeffs[i]).limit_denominator())\n",
    "print(\"]\")\n",
    "print('Order of accuracy: O(h ^',N-n,')')"
   ]
  },
  {
   "cell_type": "markdown",
   "metadata": {},
   "source": [
    "Thus the finite difference approximation is:\n",
    "\n",
    "$$ \\dfrac{d^3f}{dx^3} \\approx \\dfrac{1}{\\Delta x^3} \\left( \\frac{1}{8}f(x-3\\Delta x) - f(x-2\\Delta x) + \\frac{13}{8} f(x-\\Delta x) -\\frac{13}{8}f(x+\\Delta x) + f(x+2\\Delta x) - \\frac{1}{8}f(x+3\\Delta x) \\right) $$"
   ]
  },
  {
   "cell_type": "markdown",
   "metadata": {},
   "source": [
    "### Comparison to tabulated finite difference coefficients\n",
    "\n",
    "The finite difference coefficients generated from this workbook can be compared to those available in literature.\n",
    "\n",
    "For instance, we can reproduce the tables for centered difference approximations from Fornberg, Bengt (1988), \"Generation of Finite Difference Formulas on Arbitrarily Spaced Grids\", Mathematics of Computation, 51 (184): 699–706, [DOI](dx.doi.org/10.1090/S0025-5718-1988-0935077-0):\n",
    "\n",
    "| Derivative $n$ | Accuracy | -6 | -5 | -4 | -3 | -2 | -1 | 0 | 1 | 2 | 3 | 4 | 5 | 6 |\n",
    "|----------------|----------|----|----|----|----|----|----|---|---|---|---|---|---|---|\n",
    "|                | 2        |    |    |    |    |    |-1/2| 0 |1/2|   |   |   |   |   |  \n",
    "|                | 4        |    |    |    |    |1/12|-2/3|0  |2/3|-1/12| |   |   |   |   \n",
    "|    First       | 6        |    |    |    |-1/60|3/20|-3/4|0 |3/4|-3/20|1/60||   |   |  \n",
    "|                | 8        |    |    |1/280|-4/105|1/5|-4/5|0|4/5|-1/5|4/105|-1/280| |   | \n",
    "|                | 10       |    |-1/1260|5/504|-5/84|5/21|-5/6|0|5/6|-5/21|5/84|-5/504|1/1260| | \n",
    "|                | 12       |1/5544|-1/385|1/56|-5/63|15/56|-6/7|0 | 6/7|-15/56|5/63|-1/56|1/385|-1/5544|\n",
    "\n",
    "| Derivative $n$ | Accuracy | -6 | -5 | -4 | -3 | -2 | -1 | 0 | 1 | 2 | 3 | 4 | 5 | 6 |\n",
    "|----------------|----------|----|----|----|----|----|----|---|---|---|---|---|---|---|\n",
    "|                | 2        |    |    |    |    |    |1| -2 |1|   |   |   |   |   |  \n",
    "|                | 4        |    |    |    |    |-1/12|4/3|-5/2 |4/3|-1/12| |   |   |   |   \n",
    "|    Second      | 6        |    |    |    |1/90|-3/20|3/2|49/18 |3/2|-3/20|1/90||   |   |  \n",
    "|                | 8        |    |    |-1/560|8/315|-1/5|8/5|-205/72|8/5|-1/5|8/315|-1/560| |   | \n",
    "|                | 10       |    |1/3150|-5/1008|5/126|-5/21|5/3|-5269/1800|5/3|-5/21|5/126|-5/1008|1/3150| | \n",
    "\n",
    "Etc."
   ]
  },
  {
   "cell_type": "code",
   "execution_count": null,
   "metadata": {},
   "outputs": [],
   "source": []
  }
 ],
 "metadata": {
  "kernelspec": {
   "display_name": "Python 3",
   "language": "python",
   "name": "python3"
  },
  "language_info": {
   "codemirror_mode": {
    "name": "ipython",
    "version": 3
   },
   "file_extension": ".py",
   "mimetype": "text/x-python",
   "name": "python",
   "nbconvert_exporter": "python",
   "pygments_lexer": "ipython3",
   "version": "3.7.6"
  }
 },
 "nbformat": 4,
 "nbformat_minor": 4
}
