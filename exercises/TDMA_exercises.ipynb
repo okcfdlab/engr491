{
 "cells": [
  {
   "cell_type": "markdown",
   "metadata": {},
   "source": [
    "# Exercises in solving linear equations via TDMA\n",
    "\n",
    "Consider the below systems of equations:\n",
    "$$ \\mathbf{A} x = d $$\n",
    "where the coefficient matrix $\\mathbf{A}$, solution vector $x$, and right-hand-side vector $d$ are defined as\n",
    "\n",
    "$$ \\mathbf{A} = \\left[\n",
    "\\begin{array}{cccccc} \n",
    "1 & 2 & 0 & 0 & 0 & 0 \\\\\n",
    "3 & 2 & 3 & 0 & 0 & 0 \\\\\n",
    "0 & 2 & 1 & 3 & 0 & 0 \\\\\n",
    "0 & 0 & 1 & 2 & 1 & 0 \\\\\n",
    "0 & 0 & 0 & 2 & 2 & 2 \\\\\n",
    "0 & 0 & 0 & 0 & 3 & 2 \n",
    "\\end{array} \\right], \\quad x = \n",
    "\\left[ \\begin{array}{c}\n",
    "x_1 \\\\\n",
    "x_2 \\\\\n",
    "x_3 \\\\\n",
    "x_4 \\\\\n",
    "x_5 \\\\\n",
    "x_6\n",
    "\\end{array}\\right] , \\quad d = \n",
    "\\left[ \\begin{array}{c}\n",
    "d_1 \\\\\n",
    "d_2 \\\\\n",
    "d_3 \\\\\n",
    "d_4 \\\\\n",
    "d_5 \\\\\n",
    "d_6\n",
    "\\end{array}\\right]\n",
    "$$\n",
    "\n",
    "\n",
    "Notice that the coefficient matrix $\\mathbf{A}$ is _tridiagonal_ - only the elements along the main diagonal, and one element above and below the main diagonal are non-zero. Tridiagonal matrices can be solved efficiently using the tridiagonal matrix algorithm (TDMA), also known as the _Thomas_ algorithm.\n",
    "​\n",
    "If we define our tridiagonal matrix as\n",
    "​\n",
    "$$ \\left[ \\begin{array}{ccccc}\n",
    "b_1 & c_1 & & & 0 \\\\\n",
    "a_2 & b_2 & c_2 & & \\\\\n",
    " & a_3 & b_3 & \\ddots & \\\\\n",
    " &     & \\ddots & \\ddots & c_{n-1} \\\\\n",
    "0 & & & a_n & b_n \n",
    "\\end{array}\\right] \n",
    "\\left[ \\begin{array}{c}\n",
    "x_1 \\\\\n",
    "x_2 \\\\\n",
    "x_3 \\\\\n",
    "\\vdots \\\\\n",
    "x_n\n",
    "\\end{array}\\right] = \n",
    "\\left[ \\begin{array}{c}\n",
    "d_1 \\\\\n",
    "d_2 \\\\\n",
    "d_3 \\\\\n",
    "\\vdots \\\\\n",
    "d_n \n",
    "\\end{array}\\right] $$\n",
    "where $a_i = 0$ and $c_n = 0$.\n",
    "\n",
    "The TDMA proceeds in two steps:\n",
    "\n",
    "**Step 1: Forward sweep**\n",
    "For $i = 2,3,...,n$ do\n",
    "$$w = \\dfrac{a_i}{b_{i-1}} $$,\n",
    "$$ b_i := b_i - w c_{i-1}$$,\n",
    "$$ d_i := d_i - w d_{i-1}$$.\n",
    "\n",
    "**Step 2: Back substitution**\n",
    "$$ x_n = \\dfrac{d_n}{b_n}$$\n",
    "$$ x_ i = \\dfrac{d_i - c_i x_{i-1}}{b_i} \\text{ for } i = n-1, n-2, ..., 1.$$"
   ]
  },
  {
   "cell_type": "markdown",
   "metadata": {},
   "source": [
    "## Define the arrays in Python"
   ]
  },
  {
   "cell_type": "code",
   "execution_count": 220,
   "metadata": {},
   "outputs": [
    {
     "name": "stdout",
     "output_type": "stream",
     "text": [
      "b= [1. 2. 1. 2. 2. 2.]\n",
      "a= [0. 3. 2. 1. 2. 3.]\n",
      "c= [2. 3. 3. 1. 2. 0.]\n",
      "d= [1. 1. 1. 1. 1. 1.]\n"
     ]
    }
   ],
   "source": [
    "import numpy as np\n",
    "import numpy.linalg as lin\n",
    "\n",
    "\n",
    "A = np.array([[1., 2., 0., 0., 0., 0.], [3., 2., 3., 0., 0., 0.], [0., 2., 1., 3., 0., 0.] , [0., 0., 1., 2., 1., 0.], [0., 0., 0., 2., 2., 2.], [0., 0., 0., 0., 3., 2.]])\n",
    "d = np.array([1.,1.,1.,1.,1.,1.])\n",
    "\n",
    "b = np.diag(A,0)\n",
    "a = np.pad(np.diag(A,-1),(1,0), 'constant')\n",
    "c = np.pad(np.diag(A,1),(0,1), 'constant')\n",
    "print('b=',b)\n",
    "print('a=',a)\n",
    "print('c=',c)\n",
    "print('d=',d)\n"
   ]
  },
  {
   "cell_type": "markdown",
   "metadata": {},
   "source": [
    "## Exercise 1: Solve using TDMA\n",
    "\n",
    "Create a sub-routine for the TDMA algorithm:"
   ]
  },
  {
   "cell_type": "code",
   "execution_count": 223,
   "metadata": {},
   "outputs": [],
   "source": [
    "def TDMA(a,b,c,d):\n",
    "    nf = np.size(d) # number of equations\n",
    "    \n",
    "    # Step 1 - forward sweep\n",
    "    for i in range(1, nf):\n",
    "        w = a[i]/b[i-1]\n",
    "        b[i] = b[i] -w*c[i-1]\n",
    "        d[i] = d[i] -w*d[i-1]\n",
    "    \n",
    "    # Step 2 - back substitution\n",
    "    x[-1] = d[-1]/b[-1]\n",
    "    for i in range(nf-2, -1, -1):\n",
    "        x[i] = (d[i]-c[i]*x[i+1])/b[i]\n",
    "\n",
    "    return x"
   ]
  },
  {
   "cell_type": "markdown",
   "metadata": {},
   "source": [
    "Call the TDMA sub-routine:"
   ]
  },
  {
   "cell_type": "code",
   "execution_count": 225,
   "metadata": {},
   "outputs": [
    {
     "name": "stdout",
     "output_type": "stream",
     "text": [
      "[ 0.64285714  0.17857143 -0.42857143  0.35714286  0.71428571 -0.57142857]\n"
     ]
    }
   ],
   "source": [
    "B = np.copy(b)\n",
    "D = np.copy(d)\n",
    "\n",
    "x = TDMA(a,B,c,D)\n",
    "print(x)"
   ]
  },
  {
   "cell_type": "markdown",
   "metadata": {},
   "source": [
    "## Solve using Python's built-in linear equation solver"
   ]
  },
  {
   "cell_type": "code",
   "execution_count": 226,
   "metadata": {},
   "outputs": [
    {
     "name": "stdout",
     "output_type": "stream",
     "text": [
      "[ 0.64285714  0.17857143 -0.42857143  0.35714286  0.71428571 -0.57142857]\n"
     ]
    }
   ],
   "source": [
    "print(lin.solve(A,np.transpose(d)))"
   ]
  }
 ],
 "metadata": {
  "kernelspec": {
   "display_name": "Python 3",
   "language": "python",
   "name": "python3"
  },
  "language_info": {
   "codemirror_mode": {
    "name": "ipython",
    "version": 3
   },
   "file_extension": ".py",
   "mimetype": "text/x-python",
   "name": "python",
   "nbconvert_exporter": "python",
   "pygments_lexer": "ipython3",
   "version": "3.7.6"
  }
 },
 "nbformat": 4,
 "nbformat_minor": 4
}
