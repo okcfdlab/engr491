{
 "cells": [
  {
   "attachments": {},
   "cell_type": "markdown",
   "metadata": {},
   "source": [
    "# ENGR 491 - Example 2.1\n",
    "\n",
    "To illustrate the concept of consistency, stability, and convergence, consider the following equation:\n",
    "\n",
    "$$ \\dfrac{\\partial u}{\\partial t} - \\dfrac{\\partial u}{\\partial x} = 0, \\quad x \\in \\mathbb{R}, \\: t \\leq 0 $$\n",
    "\n",
    "together with the initial data\n",
    "\n",
    "$$ u(x, 0) =  \\cos^2 x \\quad \\text{if } |x| \\leq \\pi/2$$ and $$u(x,0) = 0 \\quad \\text{if } |x| \\geq \\pi/2.$$.\n",
    "\n",
    "Solve the equation numerically using a finite-difference method with a scheme that is known to be consistent (i.e. predictor-correcter method). Use a grid size of $\\Delta x = 0.04 \\pi$ and a time step size of $\\Delta t = \\beta \\Delta x$.\n",
    "\n",
    "Compare the results for \n",
    "\n",
    "a) $\\beta = 0.5$ \n",
    "\n",
    "b) $\\beta = 0.9$\n",
    "\n",
    "c) $\\beta = 1.1$\n",
    "\n",
    "Experiment with how the solution changes by varying $\\beta$ and how long in time the solution is conducted for (i.e. $t_{max}$)."
   ]
  },
  {
   "cell_type": "markdown",
   "metadata": {},
   "source": [
    "#### Define spatial variable"
   ]
  },
  {
   "cell_type": "code",
   "execution_count": 83,
   "metadata": {},
   "outputs": [],
   "source": [
    "import numpy as np\n",
    "import matplotlib.pyplot as plt\n",
    "\n",
    "dx = 0.04*np.pi\n",
    "c = -1\n",
    "\n",
    "x = np.linspace(-4*np.pi,4*np.pi,int(np.ceil(4*np.pi/dx)))"
   ]
  },
  {
   "cell_type": "markdown",
   "metadata": {},
   "source": [
    "#### Define the predictor-corrector function \n",
    "\n",
    "Treat these functions like a black box for now--it will numerically solve the PDE using the predictor-corrector method (don't worry that you don't know what that is at this time, we'll get to it later in the course) and sends back the solution. The func subroutine evaluates the RHS function used in the solution; again, don't worry about that at this point, we'll get to this later in the course."
   ]
  },
  {
   "cell_type": "code",
   "execution_count": 84,
   "metadata": {},
   "outputs": [],
   "source": [
    "def func(u):\n",
    "    # Sub-routine to evaluate the RHS function\n",
    "    f = 0*u.copy()\n",
    "    f[0] =  -c*(u[1]-u[-2])/(2*dx)\n",
    "    f[1:-1] = -c*(u[2:]-u[:-2])/(2*dx)\n",
    "    f[-1] = -c*(u[1]-u[-2])/(2*dx)\n",
    "    return f\n",
    "\n",
    "def solve(u,tmax,dt):\n",
    "    # sub-routine to solve the PDE via the predictor-corrector method\n",
    "    t = 0.\n",
    "    while (t < tmax):\n",
    "        un = u.copy()\n",
    "        ustar = un + dt*func(un)                         # predictor\n",
    "        u = un + dt*0.5*(func(un) + func(ustar)) # corrector\n",
    "        t+=dt\n",
    "    return u"
   ]
  },
  {
   "cell_type": "markdown",
   "metadata": {},
   "source": [
    "#### Define initial conditions"
   ]
  },
  {
   "cell_type": "code",
   "execution_count": 85,
   "metadata": {},
   "outputs": [],
   "source": [
    "u = np.cos(x)*np.cos(x)\n",
    "\n",
    "for i in range(0,x.size):\n",
    "    if (x[i] >= np.pi/2. or x[i] <= -np.pi/2):\n",
    "        u[i] = 0."
   ]
  },
  {
   "cell_type": "markdown",
   "metadata": {},
   "source": [
    "#### Solve with user-defined values of $\\beta$ and $t_{max}$"
   ]
  },
  {
   "cell_type": "code",
   "execution_count": 86,
   "metadata": {},
   "outputs": [
    {
     "data": {
      "text/plain": [
       "<matplotlib.legend.Legend at 0x23aec0cd588>"
      ]
     },
     "execution_count": 86,
     "metadata": {},
     "output_type": "execute_result"
    },
    {
     "data": {
      "image/png": "[encoded data removed]",
      "text/plain": [
       "<Figure size 432x288 with 1 Axes>"
      ]
     },
     "metadata": {
      "needs_background": "light"
     },
     "output_type": "display_data"
    }
   ],
   "source": [
    "beta = 0.5   # user-defined value of beta\n",
    "tmax = 2.0   # user-defined time to solve until\n",
    "\n",
    "# Plot the initial values and final solution\n",
    "un = solve(u,tmax,beta*dx)\n",
    "plt.plot(x,u,label='Initial value at t=0')\n",
    "plt.plot(x,un,label='Solution at t=tmax')\n",
    "plt.xlabel('x')\n",
    "plt.ylabel('u')\n",
    "plt.legend()"
   ]
  }
 ],
 "metadata": {
  "kernelspec": {
   "display_name": "Python 3",
   "language": "python",
   "name": "python3"
  },
  "language_info": {
   "codemirror_mode": {
    "name": "ipython",
    "version": 3
   },
   "file_extension": ".py",
   "mimetype": "text/x-python",
   "name": "python",
   "nbconvert_exporter": "python",
   "pygments_lexer": "ipython3",
   "version": "3.7.6"
  }
 },
 "nbformat": 4,
 "nbformat_minor": 4
}
