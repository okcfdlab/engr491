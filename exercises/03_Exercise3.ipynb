{
 "cells": [
  {
   "cell_type": "markdown",
   "metadata": {},
   "source": [
    "# Exercise 3 - Unsteady two-dimensional heat equation\n",
    "\n",
    "In our prior exercise, we looked at solutions of the 2D _steady_ heat equation. In this exercise, we're going to solve the 2D _unsteady_ heat equation. In so doing, we will compare the relative accuracy and efficiency of implicit and explicit solution methods.\n",
    "\n",
    "For completeness, I will keep the preliminary information regarding governing equations, computational domain, etc. in this exercise.\n",
    "\n",
    "\n",
    "## Governing equation\n",
    "We wish to compute the numerical solution of the two-dimensional unsteady heat equation:\n",
    "\n",
    "$$ \\dfrac{\\partial T}{\\partial t} - \\alpha \\left( \\dfrac{\\partial^2 T}{\\partial x^2} + \\dfrac{\\partial^2 T}{\\partial y^2}\\right) = q(x,y,t).$$\n",
    "\n",
    "This is obviously an unsteady equation because of the time derivative. We have also added a source term $q(x,y,t)$, which represents a heat source that can vary in time and space.\n",
    "\n",
    "## Computational domain and boundary conditions\n",
    "We will solve this PDE using a finite difference method in space in a rectangular domain defined by\n",
    "\n",
    "$$x \\in [-1,1]$$\n",
    "$$y \\in [-1,1].$$\n",
    "\n",
    "We will use fixed boundary conditions of $0^{\\circ}$C on all sides."
   ]
  },
  {
   "cell_type": "markdown",
   "metadata": {},
   "source": [
    "## Source term\n",
    "We will impose a steady, non-uniform source term defined as follows:\n",
    "\n",
    "$$q(x,y) = Q_0 \\exp \\left( -\\dfrac{(x^2 + y^2)}{2 \\sigma^2} \\right)$$\n",
    "\n",
    "where $\\sigma = 0.1$ and $Q_0$ is 200$^{\\circ}$C/s. This represents a steady Gaussian function with a maximum value at (0,0) and uniform radial decay."
   ]
  },
  {
   "cell_type": "markdown",
   "metadata": {},
   "source": [
    "## Numerical schemes\n",
    "\n",
    "We will use the following numerical schemes to solve this system:\n",
    "\n",
    "### Simple explicit method\n",
    "If we approximate the time derivative term in our governing equation with a forwards difference and the spatial terms with centered differences, we obtain the _simple explicit_ method:\n",
    "\n",
    "$$ \\dfrac{T_{i,j}^{n+1} - T_{i,j}^n}{\\Delta t} = \\alpha \\dfrac{T_{i+1,j}^n - 2T_{i,j}^n + T_{i-1,j}^n}{\\Delta x^2} + \\alpha \\dfrac{T_{i,j+1}^n - 2T_{i,j}^n + T_{i,j-1}^n}{\\Delta y^2} + q. $$\n",
    "\n",
    "\n",
    "Rearranging yields a simple, explicit expression for $T_{i,j}^{n+1}$:\n",
    "\n",
    "$$ \\boxed{T_{i,j}^{n+1} = r \\left(T_{i+1,j}^n - 2T_{i,j}^n + T_{i-1,j}^n \\right) + \\beta^2 r \\left(T_{i,j+1}^n - 2T_{i,j}^n + T_{i,j-1}^n\\right) + T_{i,j}^n + \\Delta t q}. $$\n",
    "\n",
    "where $\\beta$ and $r$ are\n",
    "$$ \\beta = \\dfrac{\\Delta x}{\\Delta y} \\quad \\quad r = \\dfrac{\\alpha \\Delta t}{\\Delta x^2}.$$\n",
    "\n",
    "It can be shown that the scheme is stable for $0 \\leq (1+\\beta^2)r \\leq \\frac{1}{2}$. For a grid with $\\beta = 1$, this stability criterion becomes $r\\leq \\frac{1}{4}$, which is a very restrictive constraint, yielding small time step sizes and long simulation times.\n",
    "\n",
    "### Dufort-Frankel method\n",
    "The simple explicit method above is regrettably only first-order accurate. To increase temporal accuracy, we use a centered difference for the time derivative:\n",
    "\n",
    "$$ \\dfrac{T_{i,j}^{n+1} - T_{i,j}^{n-1}}{2\\Delta t} = \\alpha \\dfrac{T_{i+1,j}^n - 2T_{i,j}^n + T_{i-1,j}^n}{\\Delta x^2} + \\alpha \\dfrac{T_{i,j+1}^n - 2T_{i,j}^n + T_{i,j-1}^n}{\\Delta y^2} + q. $$\n",
    "\n",
    "Moreover, we treat the $T_{i,j}^n$ terms as the average of the prior and next time steps:\n",
    "\n",
    "$$ T_{i,j}^n = \\dfrac{T_{i,j}^{n+1} + T_{i,j}^{n-1}}{2}.$$\n",
    "\n",
    "Applying the above to the discretized equation and simplifying yields a two-time level variant of the simple explicit method called the Dufort-Frankel method:\n",
    "\n",
    "$$ \\boxed{T_{i,j}^{n+1} = \\dfrac{2r \\left(T_{i+1,j}^n - T_{i,j}^{n-1} + T_{i-1,j}^n \\right) + 2\\beta^2 r \\left(T_{i,j+1}^n - T_{i,j}^{n-1} + T_{i,j-1}^n\\right) + T_{i,j}^{n-1} + 2\\Delta t q}{1 + 2r + 2\\beta^2 r}}. $$\n",
    "\n",
    "\n",
    "### Alternating direction implicit (ADI)\n",
    "Returning to the simple explicit method, if instead evaluating the spatial term at the $n$ time level, we evaluated them at the $n+1$ time level, we get\n",
    "\n",
    "$$ {T_{i,j}^{n+1} = r \\left(T_{i+1,j}^{n+1} - 2T_{i,j}^{n+1} + T_{i-1,j}^{n+1} \\right) + \\beta^2 r \\left(T_{i,j+1}^{n+1} - 2T_{i,j}^{n+1} + T_{i,j-1}^{n+1}\\right) + T_{i,j}^n + \\Delta t q}. $$\n",
    "\n",
    "One can see that this is an _implicit_ formulation and there are five unknowns in the equation at the $n+1$ time level. As a result, this formulation is not tridiagonal and thus more expensive solution methods are required to solve the algebraic system of equations. We can address this difficulty by treating it as a mixed implicit/explicit scheme with two steps. In the first step, the spatial terms are evaluated at an intermediate $(n+1/2)$ time level in one direction and $n$ in the other direction. In the second step, the first direction is evaluated at the $n+1/2$ level and the other direction at $(n+1)$. This is expressed as follows:\n",
    "\n",
    "Step 1:\n",
    "$$ \\boxed{T_{i,j}^{n+1/2} = 0.5 r \\left(T_{i+1,j}^{n+1/2} - 2T_{i,j}^{n+1/2} + T_{i-1,j}^{n+1/2} \\right) + 0.5 \\beta^2 r \\left(T_{i,j+1}^{n} - 2T_{i,j}^{n} + T_{i,j-1}^{n}\\right) + T_{i,j}^n + 0.5 \\Delta t q}. $$\n",
    "Step 2:\n",
    "$$ \\boxed{T_{i,j}^{n+1} = 0.5 r \\left(T_{i+1,j}^{n+1/2} - 2T_{i,j}^{n+1/2} + T_{i-1,j}^{n+1/2} \\right) + 0.5 \\beta^2 r \\left(T_{i,j+1}^{n+1} - 2T_{i,j}^{n+1} + T_{i,j-1}^{n+1}\\right) + T_{i,j}^{n+1/2} + 0.5 \\Delta t q}. $$\n",
    "\n",
    "Step 1 is implicit in $x$ and explicit in $y$. Step 2 is explicit in $x$ and implicit in $y$. Hence it is called _alternating direction implicit_ (ADI) scheme. The ADI scheme is unconditionally stable and has second-order accuracy with a truncation error of $\\mathcal{O}[(\\Delta x)^2, (\\Delta y)^2, (\\Delta t)^2]$. To avoid any bias in the solution direction, the order of step 1 and step 2 is reversed on even and odd time steps. This means that on even time steps, $x$ is treated implicitly first and $y$ second, and vice-versa on odd time steps."
   ]
  },
  {
   "cell_type": "markdown",
   "metadata": {},
   "source": [
    "#### Assembling the implicit system of equations\n",
    "\n",
    "The ADI method is implicit and a linear system of equations must be solved in step 1 and 2 at each time step. The linear system can be written as\n",
    "\n",
    "$$ \\mathbf{A} \\mathbf{T} = \\mathbf{b} $$\n",
    "\n",
    "where $\\mathbf{A}$ is a coefficient matrix, $\\mathbf{T}$ is a solution vector, and $\\mathbf{b}$ represents the right-hand side vector in the linear system. \n",
    "\n",
    "To clearly illustrate how this system is setup, let's consider Step 1 of the ADI method above. We're just starting, so set $i$ = 0 and $j$ = 1 (not $j$ = 0 because the $j=0$ information is already known, as it is fixed by the boundary conditions):\n",
    "\n",
    "$$i = 0: \\quad T_{0,1}^{n+1/2} = 0.5 r ( T_{1,1}^{n+1/2} - 2 T_{0,1}^{n+1/2} ) + 0.5 \\beta^2 r ( T_{0,2}^{n} - 2 T_{0,1}^{n} + T_{0,0}^n ) + T_{0,0}^n + 0.5 \\Delta t q_{0,1} $$\n",
    "\n",
    "Notice the $T_{i-1,j}$ term is gone because there are no negative indexed points. Let's move all the unknowns to the left hand side and all the knowns to the right hand side:\n",
    "\n",
    "$$ i = 0: \\quad (1+r) T_{0,1}^{n+1/2} - 0.5r T_{1,1}^{n+1/2} = 0.5 \\beta^2 r ( T_{0,2}^{n} - 2 T_{0,1}^{n} + T_{0,0}^{n} ) + T_{0,0}^n + 0.5 \\Delta t q_{0,1} $$\n",
    "\n",
    "Now, let's increment $i$ to $i$ = 1 and write the equation as above:\n",
    "\n",
    "$$ i = 1: \\quad - 0.5r T_{0,1}^{n+1/2} + (1+r) T_{1,1}^{n+1/2} -0.5rT_{2,1}^{n+1/2} = 0.5 \\beta^2 r ( T_{1,1}^{n} - 2 T_{1,1}^{n} + T_{1,0}^{n}) + T_{1,1}^n + 0.5 \\Delta t q_{1,1} $$\n",
    "\n",
    "Let's increment $i$ to $i$ = 2, $j$ = 0 and write the equation again:\n",
    "\n",
    "$$ i = 2: \\quad - 0.5r T_{1,1}^{n+1/2} + (1+r) T_{2,1}^{n+1/2} -0.5rT_{3,1}^{n+1/2} = 0.5 \\beta^2 r ( T_{2,2}^{n} - 2 T_{2,1}^{n} + T_{2,0}^{n}) + T_{2,1}^n + 0.5 \\Delta t q_{2,1} $$\n",
    "\n",
    "Writing these equations in matrix form for $i = 0 \\to n_i$ will look like this:\n",
    "\n",
    "$$ \\left[ \n",
    "\\begin{array}{ccccccc}\n",
    "(1+r) & -0.5r & 0 & 0 & 0 & ... & 0  \\\\\n",
    "-0.5r & (1+r) & -0.5r & 0 & 0 & ... & 0 \\\\\n",
    "0 & -0.5r & (1+r) & -0.5r & 0 & ... & 0 \\\\\n",
    "\\vdots & \\vdots & \\ddots & \\ddots & \\ddots & \\dots & \\vdots \\\\\n",
    "0 & \\dots & 0 & 0 & -0.5r & (1+r) & -0.5r  \\\\\n",
    "0 & \\dots & 0 & 0 & 0 & -0.5r & (1+r) \n",
    "\\end{array} \\right]\n",
    "\\left[\n",
    "\\begin{array}{c}\n",
    "T_{0,0}^{n+1/2}\\\\\n",
    "T_{1,0}^{n+1/2}\\\\\n",
    "T_{2,0}^{n+1/2}\\\\\n",
    "\\vdots \\\\\n",
    "T_{n_{i-1},0}^{n+1/2} \\\\\n",
    "T_{n_i,0}^{n+1/2}\n",
    "\\end{array}\n",
    "\\right]\n",
    "=\n",
    "\\left[\n",
    "\\begin{array}{c}\n",
    "0.5 \\beta^2 r ( T_{0,2}^{n} - 2 T_{0,1}^{n} + T_{0,0}^{n} ) + T_{0,0}^n + 0.5 \\Delta t q_{0,1} \\\\\n",
    "0.5 \\beta^2 r ( T_{1,1}^{n} - 2 T_{1,1}^{n} + T_{1,0}^{n} ) + T_{1,1}^n + 0.5 \\Delta t q_{1,1} \\\\\n",
    "0.5 \\beta^2 r ( T_{2,2}^{n} - 2 T_{2,1}^{n} + T_{2,0}^{n} ) + T_{2,1}^n + 0.5 \\Delta t q_{2,1} \\\\\n",
    "\\vdots \\\\\n",
    "0.5 \\beta^2 r ( T_{n_{i-1},2}^{n} - 2 T_{n_{i-1},1}^{n} + T_{n_{i-1},0}^{n} ) + T_{n_{i-1},1}^n + 0.5 \\Delta t q_{n_{i-1},1} \\\\\n",
    "0.5 \\beta^2 r ( T_{n_{i},2}^{n} - 2 T_{n_{i},1}^{n} + T_{n_{i},0}^{n} ) + T_{n_{i},1}^n + 0.5 \\Delta t q_{n_{i},1} \\\\\n",
    "\\end{array}\n",
    "\\right]\n",
    "$$\n",
    "\n",
    "or $$ \\mathbf{A} \\mathbf{T} = \\mathbf{b}. $$"
   ]
  },
  {
   "cell_type": "markdown",
   "metadata": {},
   "source": [
    "#### Solving the tridiagonal system\n",
    "\n",
    "Notice that the coefficient matrix $\\mathbf{A}$ is _tridiagonal_ - only the elements along the main diagonal, and one element above and below the main diagonal are non-zero. Tridiagonal matrices can be solved efficiently using the tridiagonal matrix algorithm (TDMA), also known as the _Thomas_ algorithm.\n",
    "\n",
    "If we define our tridiagonal matrix as\n",
    "\n",
    "$$ \\left[ \\begin{array}{ccccc}\n",
    "b_1 & c_1 & & & 0 \\\\\n",
    "a_2 & b_2 & c_2 & & \\\\\n",
    " & a_3 & b_3 & \\ddots & \\\\\n",
    " &     & \\ddots & \\ddots & c_{n-1} \\\\\n",
    "0 & & & a_n & b_n \n",
    "\\end{array}\\right] \n",
    "\\left[ \\begin{array}{c}\n",
    "T_1 \\\\\n",
    "T_2 \\\\\n",
    "T_3 \\\\\n",
    "\\vdots \\\\\n",
    "x_n\n",
    "\\end{array}\\right] = \n",
    "\\left[ \\begin{array}{c}\n",
    "d_1 \\\\\n",
    "d_2 \\\\\n",
    "d_3 \\\\\n",
    "\\vdots \\\\\n",
    "d_n \n",
    "\\end{array}\\right] $$\n",
    "where $a_i = 0$ and $c_n = 0$.\n",
    "\n",
    "The TDMA proceeds in two steps:\n",
    "\n",
    "**Step 1: Forward sweep** The forward sweeep consists of computation of new coefficients as follows, denoting the new coefficients with primes:\n",
    "$$c_i^{\\prime} = \\left\\{\\begin{array}{ll} \\dfrac{c_i}{b_i} & : i=1 \\\\ \\dfrac{c_i}{b_i - a_i c^{\\prime}_{i-1}} & : i = 2,3,...,n-1 \\end{array}\\right\\} $$\n",
    "and\n",
    "$$d_i^{\\prime} = \\left\\{\\begin{array}{ll} \\dfrac{d_i}{b_i} & : i=1 \\\\ \\dfrac{d_i - a_i d^{\\prime}_{i-1}}{b_i - a_i c^{\\prime}_{i-1}} & : i = 2,3,...,n-1 \\end{array}\\right\\} $$\n",
    "\n",
    "**Step 2: Back substitution** The solution is obtained by back substitution:\n",
    "$$\\begin{array}{ll} T_n = d^{\\prime}_n & \\\\ T_i = d^{\\prime}_i - c^{\\prime} T_{i+1} & : i = n-1,n-2,...,1.\\end{array}$$"
   ]
  },
  {
   "cell_type": "markdown",
   "metadata": {},
   "source": [
    "## Python code\n",
    "Import Python classes:"
   ]
  },
  {
   "cell_type": "code",
   "execution_count": 1,
   "metadata": {},
   "outputs": [],
   "source": [
    "import numpy as np\n",
    "import time\n",
    "import matplotlib.pyplot as plt\n",
    "import matplotlib.cm as cm"
   ]
  },
  {
   "cell_type": "markdown",
   "metadata": {},
   "source": [
    "Sub-routine that defines the source term:"
   ]
  },
  {
   "cell_type": "code",
   "execution_count": 2,
   "metadata": {},
   "outputs": [],
   "source": [
    "def Q(x,y):\n",
    "    sigma = 0.1\n",
    "    return np.exp(-(x**2 + y**2)/(2*sigma**2))"
   ]
  },
  {
   "cell_type": "markdown",
   "metadata": {},
   "source": [
    "Sub-routine defining the tridiagonal matrix algorithm:"
   ]
  },
  {
   "cell_type": "code",
   "execution_count": 3,
   "metadata": {},
   "outputs": [],
   "source": [
    "def TDMA(a,b,c,d,x):\n",
    "    nf = np.size(d) # number of equations\n",
    "    \n",
    "    # Step 1 - forward sweep\n",
    "    for i in range(1, nf):\n",
    "        w = a[i-1]/b[i-1]\n",
    "        b[i] = b[i] - w*c[i-1]\n",
    "        d[i] = d[i] - w*d[i-1]\n",
    "    \n",
    "    # Step 2 - back substitution\n",
    "    x[-1] = d[-1]/b[-1]\n",
    "    for i in range(nf-2, -1, -1):\n",
    "        x[i] = (d[i]-c[i]*x[i+1])/b[i]\n",
    "\n",
    "    return x"
   ]
  },
  {
   "cell_type": "markdown",
   "metadata": {},
   "source": [
    "Sub-routine that defines the initial and boundary conditions:"
   ]
  },
  {
   "cell_type": "code",
   "execution_count": 4,
   "metadata": {},
   "outputs": [],
   "source": [
    "def ICBC(X,Y,nx,ny,T0,Q0):\n",
    "    # Define source term\n",
    "    q = Q0*Q(X,Y)\n",
    "    # Define initial temperature field\n",
    "    T = T0*np.ones((ny,nx)) + q\n",
    "    \n",
    "    # Assign boundary conditions\n",
    "    T[:,0] = T0\n",
    "    T[:,nx-1] = T0\n",
    "    T[0,:] = T0\n",
    "    T[ny-1,:] = T0\n",
    "    return T"
   ]
  },
  {
   "cell_type": "markdown",
   "metadata": {},
   "source": [
    "### Simple explicit sub-routine:"
   ]
  },
  {
   "cell_type": "code",
   "execution_count": 6,
   "metadata": {},
   "outputs": [],
   "source": [
    "def SE(T,X,Y,q,alpha,beta,dx,tmax,r):\n",
    "    # Simple explicit sub-routine. Output is a tuple resultsSE: \n",
    "    #   resultsSE[0] = solution time vector\n",
    "    #   resultsSE[1] = vector of max temperature in domain as a function of time\n",
    "    #   resultsSE[2] = number of time steps taken\n",
    "    r = r/(1+beta**2)\n",
    "    dt = r*dx**2/alpha\n",
    "    n = 0\n",
    "    Tmax = np.max(T)\n",
    "    t = [0]\n",
    "    while (n*dt < tmax):    \n",
    "        Tn = T.copy()\n",
    "        T[1:-1,1:-1] = r*(Tn[1:-1,2:]-2*Tn[1:-1,1:-1]+Tn[1:-1,:-2]) + \\\n",
    "                        beta**2*r*(Tn[2:,1:-1]-2*Tn[1:-1,1:-1]+Tn[:-2,1:-1]) + \\\n",
    "                        Tn[1:-1,1:-1] + dt*q[1:-1,1:-1]\n",
    "        n+=1\n",
    "        \n",
    "        # Record the maximum temperature in the domain at each time step\n",
    "        Tmax = np.append(Tmax,np.max(T))\n",
    "        t = np.append(t,n*dt)\n",
    "    return t,Tmax,n"
   ]
  },
  {
   "cell_type": "markdown",
   "metadata": {},
   "source": [
    "### DuFort-Frankel sub-routine:"
   ]
  },
  {
   "cell_type": "code",
   "execution_count": 7,
   "metadata": {},
   "outputs": [],
   "source": [
    "def DF(T,X,Y,q,alpha,beta,dx,tmax,r):\n",
    "    # Dufort-Frankel sub-routine. Output is a tuple resultsDF: \n",
    "    #   resultsDF[0] = solution time vector\n",
    "    #   resultsDF[1] = vector of max temperature in domain as a function of time\n",
    "    #   resultsDF[2] = number of time steps taken\n",
    "    \n",
    "    r = r/(1+beta**2)\n",
    "    dt = r*dx**2/alpha\n",
    "    n = 0\n",
    "    Tmax = np.max(T)\n",
    "    t = [0]\n",
    "    while (n*dt < tmax):            \n",
    "        # Tm must receive values of time step n-1. At n=0, this is initialized\n",
    "        # to T. At n>0, it receives the prior timestep value        \n",
    "        if (n==0):\n",
    "            Tm = T.copy()\n",
    "        else:\n",
    "            Tm = Tn.copy()\n",
    "        Tn = T.copy()\n",
    "     \n",
    "        T[1:-1,1:-1] = (2*r*(Tn[1:-1,2:]-Tm[1:-1,1:-1]+Tn[1:-1,:-2]) + \\\n",
    "                       2*beta**2*r*(Tn[2:,1:-1]-Tm[1:-1,1:-1]+Tn[:-2,1:-1]) + \\\n",
    "                        Tm[1:-1,1:-1] + 2*dt*q[1:-1,1:-1]) / (1 + 2*r + 2*beta**2*r)\n",
    "        n+=1\n",
    "        \n",
    "        # Record the maximum temperature in the domain at each time step\n",
    "        Tmax = np.append(Tmax,np.max(T))\n",
    "        t = np.append(t,n*dt)\n",
    "    return t,Tmax,n"
   ]
  },
  {
   "cell_type": "markdown",
   "metadata": {},
   "source": [
    "### ADI sub-routine:"
   ]
  },
  {
   "cell_type": "code",
   "execution_count": 8,
   "metadata": {},
   "outputs": [],
   "source": [
    "def ADI(T,X,Y,q,alpha,beta,dx,tmax,nx,ny,r):\n",
    "    # ADI sub-routine. Output is a tuple resultsADI: \n",
    "    #   resultsADI[0] = solution time vector\n",
    "    #   resultsADI[1] = vector of max temperature in domain as a function of time\n",
    "    #   resultsADI[2] = number of time steps taken\n",
    "    \n",
    "    r = r/(1+beta**2)\n",
    "    dt = r*dx**2/alpha\n",
    "    n = 0\n",
    "    Tmax = np.max(T)\n",
    "    t = [0]\n",
    "    while (n*dt < tmax):    \n",
    "        Tn = T.copy()\n",
    "        # Alternate the order of the implicit direction on odd-even time steps. For even, solve x implicit first, then y\n",
    "        if (n%2==0):\n",
    "            # Step 1: implicit in x, explicit in y\n",
    "            for j in range(1,ny-1):\n",
    "                a = -0.5*r*np.ones(nx-1)\n",
    "                b = (1+r)*np.ones(nx)\n",
    "                c = a.copy() \n",
    "                d = 0.5*(beta**2)*r*(Tn[j+1,:]-2*Tn[j,:]+Tn[j-1,:]) + Tn[j,:] + 0.5*dt*q[j,:]\n",
    "                \n",
    "                # enforce boundary conditions\n",
    "                b[0] = 1\n",
    "                c[0] = 0\n",
    "                a[nx-2] = 0\n",
    "                b[nx-1] = 1\n",
    "                d[0] = 1\n",
    "                d[nx-1] = 1\n",
    "                \n",
    "                TDMA(a,b,c,d,Tn[j,:])    \n",
    "\n",
    "            # Step 2: implicit in y, explicit in x\n",
    "            for i in range(1,nx-1):\n",
    "                a = -0.5*(beta**2)*r*np.ones(ny-1)\n",
    "                b = (1+(beta**2)*r)*np.ones(ny)\n",
    "                c = a.copy()\n",
    "                d = 0.5*r*(Tn[:,i+1]-2*Tn[:,i]+Tn[:,i-1]) + Tn[:,i] + 0.5*dt*q[:,i]\n",
    "                \n",
    "                # enforce boundary conditions\n",
    "                b[0] = 1\n",
    "                c[0] = 0\n",
    "                a[ny-2] = 0\n",
    "                b[ny-1] = 1\n",
    "                d[0] = 1\n",
    "                d[ny-1] = 1\n",
    "                \n",
    "                TDMA(a,b,c,d,T[:,i])\n",
    "                \n",
    "        # Alternate the order of the implicit direction on odd-even time steps. For odd, solve y implicit first, then x\n",
    "        else:\n",
    "            # Step 1: implicit in y, explicit in x\n",
    "            for i in range(1,nx-1):\n",
    "                a = -0.5*(beta**2)*r*np.ones(ny-1)\n",
    "                b = (1+(beta**2)*r)*np.ones(ny)\n",
    "                c = a.copy()\n",
    "                d = 0.5*r*(Tn[:,i+1]-2*Tn[:,i]+Tn[:,i-1]) + Tn[:,i] + 0.5*dt*q[:,i]\n",
    "                \n",
    "                # enforce boundary conditions\n",
    "                b[0] = 1\n",
    "                c[0] = 0\n",
    "                a[ny-2] = 0\n",
    "                b[ny-1] = 1\n",
    "                d[0] = 1\n",
    "                d[ny-1] = 1\n",
    "                \n",
    "                TDMA(a,b,c,d,Tn[:,i])\n",
    "                \n",
    "            # Step 1: implicit in x, explicit in y\n",
    "            for j in range(1,ny-1):\n",
    "                a = -0.5*r*np.ones(nx-1)\n",
    "                b = (1+r)*np.ones(nx)\n",
    "                c = a.copy() \n",
    "                d = 0.5*(beta**2)*r*(Tn[j+1,:]-2*Tn[j,:]+Tn[j-1,:]) + Tn[j,:] + 0.5*dt*q[j,:]\n",
    "                \n",
    "                # enforce boundary conditions\n",
    "                b[0] = 1\n",
    "                c[0] = 0\n",
    "                a[nx-2] = 0\n",
    "                b[nx-1] = 1\n",
    "                d[0] = 1\n",
    "                d[nx-1] = 1\n",
    "                \n",
    "                TDMA(a,b,c,d,T[j,:])    \n",
    "        n+=1\n",
    "        Tmax = np.append(Tmax,np.max(T))\n",
    "        t = np.append(t,n*dt)\n",
    "    return t,Tmax,n"
   ]
  },
  {
   "cell_type": "markdown",
   "metadata": {},
   "source": [
    "### Main program\n",
    "\n",
    "This main program defines the problem, calls the sub-routines that compute the solution, and compares the results."
   ]
  },
  {
   "cell_type": "code",
   "execution_count": 12,
   "metadata": {},
   "outputs": [
    {
     "name": "stdout",
     "output_type": "stream",
     "text": [
      "Running simple explicit...\n",
      "Simple explicit finished in 5043 timesteps. Execution took 0.35691339999902993 seconds\n",
      "Running DuFort-Frankel...\n",
      "DuFort-Frankel finished in 1261 timesteps. Execution took 0.08557590000054915 seconds\n",
      "Running ADI...\n",
      "ADI finished in 1261 timesteps. Execution took 14.491273900001033 seconds\n"
     ]
    },
    {
     "data": {
      "text/plain": [
       "Text(0, 0.5, '$T_{max}$ ($^{\\\\circ}$C)')"
      ]
     },
     "execution_count": 12,
     "metadata": {},
     "output_type": "execute_result"
    },
    {
     "data": {
      "image/png": "[encoded data removed]",
      "text/plain": [
       "<Figure size 800x600 with 1 Axes>"
      ]
     },
     "metadata": {
      "needs_background": "light"
     },
     "output_type": "display_data"
    }
   ],
   "source": [
    "### Define grid info ###\n",
    "xmin = -1.\n",
    "xmax = 1.\n",
    "ymin = -1.\n",
    "ymax = 1.\n",
    "nx = 41\n",
    "ny = 41\n",
    "dx = (xmax-xmin)/nx\n",
    "dy = (ymax-ymin)/ny\n",
    "beta = dx/dy\n",
    "x = np.linspace(-1.,1,nx)\n",
    "y = np.linspace(-1.,1,ny)\n",
    "X, Y = np.meshgrid(x,y)\n",
    "\n",
    "### Define simulation parameters ###\n",
    "alpha = 1 # thermal diffusivity coefficient\n",
    "tmax = 3 # maximum time to simulate, in seconds\n",
    "T0 = 1   # initial uniform temperature\n",
    "Q0 = 200 # source term\n",
    "\n",
    "### Define source term ###\n",
    "q = Q0*Q(X,Y)\n",
    "\n",
    "### Define initial and boundary conditions ###\n",
    "T = ICBC(X,Y,nx,ny,T0,Q0)\n",
    "\n",
    "## Run simple explicit ###\n",
    "print('Running simple explicit...')\n",
    "# Tunable CFL condition number\n",
    "r = 0.5\n",
    "tic = time.perf_counter()\n",
    "resultSE = SE(T,X,Y,q,alpha,beta,dx,tmax,r)\n",
    "toc = time.perf_counter()\n",
    "print('Simple explicit finished in',resultSE[2],'timesteps. Execution took', (toc-tic),'seconds')\n",
    "\n",
    "#### Run DuFort-Frankel ###\n",
    "# Re-itialize initial and boundary conditions\n",
    "T = ICBC(X,Y,nx,ny,T0,Q0)\n",
    "print('Running DuFort-Frankel...')\n",
    "r = 2\n",
    "tic = time.perf_counter()\n",
    "resultDF = DF(T,X,Y,q,alpha,beta,dx,tmax,r)\n",
    "toc = time.perf_counter()\n",
    "print('DuFort-Frankel finished in',resultDF[2],'timesteps. Execution took', (toc-tic),'seconds')\n",
    "\n",
    "### Run ADI ###\n",
    "# Re-itialize initial and boundary conditions\n",
    "T = ICBC(X,Y,nx,ny,T0,Q0)\n",
    "print('Running ADI...')\n",
    "r = 2\n",
    "tic = time.perf_counter()\n",
    "resultADI = ADI(T,X,Y,q,alpha,beta,dx,tmax,nx,ny,r)\n",
    "toc = time.perf_counter()\n",
    "print('ADI finished in',resultADI[2],'timesteps. Execution took', (toc-tic), 'seconds')\n",
    "\n",
    "\n",
    "# Plot in logscale decay of max temperature with time\n",
    "\n",
    "plt.rcParams['font.family'] = 'Times New Roman'\n",
    "fig = plt.figure(figsize=(4, 3),dpi=200)\n",
    "plt.xlim([1e-3,10])\n",
    "plt.ylim([4,300])\n",
    "plt.loglog(resultSE[0],resultSE[1],ls='solid',label='Simple explicit')\n",
    "plt.loglog(resultDF[0],resultDF[1],ls='dashed',label='DuFort-Frankel')\n",
    "plt.loglog(resultADI[0],resultADI[1],ls='dotted',label='ADI')\n",
    "plt.legend(frameon=False,fontsize=8)\n",
    "plt.xlabel('$t$ (s)')\n",
    "plt.ylabel('$T_{max}$ ($^{\\circ}$C)')"
   ]
  },
  {
   "cell_type": "markdown",
   "metadata": {},
   "source": [
    "Notice the difference in the simulation time between the explicit (SE, DF) and implicit (ADI) methods:\n",
    "\n",
    "| Method           | Simulation time (s)  | Number of time steps |\n",
    "|------------------|-------------------|-------------------------|\n",
    "| Simple explicit  | 0.356             | 5043      |\n",
    "| DuFort-Frankel   | 0.086             | 1261      |\n",
    "| ADI              | 14.49             | 1261      |\n",
    "\n",
    "Even thought ADI requires the same number of time steps as the DuFort-Frankel method, the cost per timestep is *much* higher because it needs to solve a linear system twice per time step, resulting in much higher computational expense.\n",
    "\n",
    "Also notice that the DuFort-Frankel method and the Simple explicit methods seem to agree much better in terms of the $T_{max}$ value as a function of time. It suggests that the DuFort-Frankel method may have better temporal accuracy. However, it is hard to say for certain, because we don't have an analytical solution to compare against.\n",
    "\n",
    "A final interesting point: notice how all three methods converge to the same steady-state solution at around 1 s. This is an interesting property of the parabolic equation that we are solving--it marches to a steady state solution. If all we cared about was the steady-state temperature field, and we didn't care how the field evolved to that solution in time, we could have removed the time-derivative from the governing equation from the very beginning and solved the problem exactly in the same way as the steady 2D heat equation."
   ]
  },
  {
   "cell_type": "markdown",
   "metadata": {},
   "source": [
    "As a final piece of eye-candy, let's plot an animation of the temperature field solution as it evolves in time. This was taken from the DuFort-Frankel method:"
   ]
  },
  {
   "cell_type": "code",
   "execution_count": 38,
   "metadata": {},
   "outputs": [
    {
     "data": {
      "text/html": [
       "\n",
       "    <video alt=\"test\" controls>\n",
       "        <source src=\"output2.mp4\" type=\"video/mp4\">\n",
       "    </video>\n"
      ],
      "text/plain": [
       "<IPython.core.display.HTML object>"
      ]
     },
     "execution_count": 38,
     "metadata": {},
     "output_type": "execute_result"
    }
   ],
   "source": [
    "from IPython.display import HTML\n",
    "\n",
    "HTML(\"\"\"\n",
    "    <video alt=\"test\" controls>\n",
    "        <source src=\"output2.mp4\" type=\"video/mp4\">\n",
    "    </video>\n",
    "\"\"\")"
   ]
  }
 ],
 "metadata": {
  "kernelspec": {
   "display_name": "Python 3",
   "language": "python",
   "name": "python3"
  },
  "language_info": {
   "codemirror_mode": {
    "name": "ipython",
    "version": 3
   },
   "file_extension": ".py",
   "mimetype": "text/x-python",
   "name": "python",
   "nbconvert_exporter": "python",
   "pygments_lexer": "ipython3",
   "version": "3.7.6"
  }
 },
 "nbformat": 4,
 "nbformat_minor": 4
}
